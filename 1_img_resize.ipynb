{
 "cells": [
  {
   "cell_type": "code",
   "execution_count": null,
   "metadata": {},
   "outputs": [],
   "source": [
    "import os\n",
    "import csv\n",
    "import cv2\n",
    "import math\n",
    "import time\n",
    "import json\n",
    "import glob\n",
    "import shutil\n",
    "import pandas as pd\n",
    "import numpy as np\n",
    "import matplotlib.pyplot as plt\n",
    "\n",
    "from tqdm.notebook import tqdm as tqdm"
   ]
  },
  {
   "cell_type": "markdown",
   "metadata": {},
   "source": [
    "### Resize image to 1024*1024"
   ]
  },
  {
   "cell_type": "code",
   "execution_count": null,
   "metadata": {},
   "outputs": [],
   "source": [
    "# TODO: change the folder\n",
    "o_img_folder = '../data/1_o_image_PBLtest/*.PNG'\n",
    "o_img_list = glob.glob(o_img_folder)\n",
    "o_img_list.sort()\n",
    "assert len(o_img_list) != 0, 'empty input folder'\n",
    "print(len(o_img_list))"
   ]
  },
  {
   "cell_type": "code",
   "execution_count": null,
   "metadata": {},
   "outputs": [],
   "source": [
    "# TODO: change the save_path\n",
    "save_path = '../data/resize_data/'\n",
    "if(not os.path.exists(save_path)):\n",
    "    os.mkdir(save_path)\n",
    "if(len(glob.glob(save_path+'/*')) != 0):\n",
    "    print('Waning:', save_path, 'is not empty, continue?(y/n)')\n",
    "    confirm = input()\n",
    "    if(confirm == \"y\" or confirm == \"Y\"):\n",
    "        pass\n",
    "    else:\n",
    "        assert False\n",
    "\n",
    "for img_path in tqdm(o_img_list, total=len(o_img_list)):\n",
    "    image_name = os.path.basename(img_path)\n",
    "    img = cv2.imread(img_path)\n",
    "    img_resize_1024 = cv2.resize(img,(1024,1024))\n",
    "    cv2.imwrite(os.path.join(save_path, image_name), img_resize_1024)"
   ]
  },
  {
   "cell_type": "code",
   "execution_count": null,
   "metadata": {},
   "outputs": [],
   "source": []
  }
 ],
 "metadata": {
  "interpreter": {
   "hash": "808309d7d9bacd9cc8f5e874d3707320ad0abc41c438c5aefbb955efab3c470c"
  },
  "kernelspec": {
   "display_name": "Python 3.6.13 ('segment-gpu')",
   "language": "python",
   "name": "python3"
  },
  "language_info": {
   "codemirror_mode": {
    "name": "ipython",
    "version": 3
   },
   "file_extension": ".py",
   "mimetype": "text/x-python",
   "name": "python",
   "nbconvert_exporter": "python",
   "pygments_lexer": "ipython3",
   "version": "3.6.13"
  }
 },
 "nbformat": 4,
 "nbformat_minor": 4
}
