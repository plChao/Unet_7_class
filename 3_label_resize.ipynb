{
 "cells": [
  {
   "cell_type": "code",
   "execution_count": null,
   "metadata": {},
   "outputs": [],
   "source": [
    "import os\n",
    "import csv\n",
    "import cv2\n",
    "import math\n",
    "import time\n",
    "import json\n",
    "import glob\n",
    "import shutil\n",
    "import pandas as pd\n",
    "import numpy as np\n",
    "import matplotlib.pyplot as plt\n",
    "\n",
    "from tqdm.notebook import tqdm as tqdm\n",
    "color_list = [255, 0, 86, 179, 226, 105, 76, 150, 29, 151]\n",
    "def check_is_pollute(BGRimg):\n",
    "    gray_img = cv2.cvtColor(BGRimg, cv2.COLOR_BGR2GRAY)\n",
    "    for color in color_list:\n",
    "        gray_img = np.where(gray_img==color, 0, gray_img)\n",
    "    if np.sum(gray_img) == 0:\n",
    "        return False\n",
    "    else:\n",
    "        return True"
   ]
  },
  {
   "cell_type": "code",
   "execution_count": null,
   "metadata": {},
   "outputs": [],
   "source": [
    "seg_img_1024_folder = './result/raw_seg/*.PNG'\n",
    "seg_img_1024_list = glob.glob(seg_img_1024_folder)\n",
    "seg_img_1024_list.sort()\n",
    "print(len(seg_img_1024_list))\n",
    "\n",
    "# TODO: chang the original size x-ray folder\n",
    "o_img_folder = '../data/1_o_image_PBLtest/*.PNG'\n",
    "o_img_list = glob.glob(o_img_folder)\n",
    "o_img_list.sort()\n",
    "assert len(o_img_list) > 0, str(o_img_folder) + ' is empty'"
   ]
  },
  {
   "cell_type": "code",
   "execution_count": null,
   "metadata": {},
   "outputs": [],
   "source": [
    "seg_o_size_save_path = './result/seg_resize/'\n",
    "\n",
    "for seg_img_path in tqdm(seg_img_1024_list, total=len(seg_img_1024_list)):\n",
    "    seg_image_name = os.path.basename(seg_img_path)\n",
    "    seg_img = cv2.imread(seg_img_path)\n",
    "    #find image in o_img_list, cv2.read the image_path can get original image size\n",
    "    o_img_path = [img_path for img_path in o_img_list if seg_image_name[:-4] in img_path]\n",
    "    o_img = cv2.imread(o_img_path[0])\n",
    "    seg_img_original_size = cv2.resize(seg_img,(o_img.shape[1],o_img.shape[0]), interpolation = cv2.INTER_NEAREST)\n",
    "    if check_is_pollute(seg_img_original_size):\n",
    "        print('polluted')\n",
    "    cv2.imwrite(os.path.join(seg_o_size_save_path, seg_image_name), seg_img_original_size)"
   ]
  },
  {
   "cell_type": "code",
   "execution_count": null,
   "metadata": {},
   "outputs": [],
   "source": []
  }
 ],
 "metadata": {
  "interpreter": {
   "hash": "808309d7d9bacd9cc8f5e874d3707320ad0abc41c438c5aefbb955efab3c470c"
  },
  "kernelspec": {
   "display_name": "Python 3.6.13 ('segment-gpu')",
   "language": "python",
   "name": "python3"
  },
  "language_info": {
   "codemirror_mode": {
    "name": "ipython",
    "version": 3
   },
   "file_extension": ".py",
   "mimetype": "text/x-python",
   "name": "python",
   "nbconvert_exporter": "python",
   "pygments_lexer": "ipython3",
   "version": "3.6.13"
  }
 },
 "nbformat": 4,
 "nbformat_minor": 4
}
